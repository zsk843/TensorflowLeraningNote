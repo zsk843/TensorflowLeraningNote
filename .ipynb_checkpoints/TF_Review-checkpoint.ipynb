{
 "cells": [
  {
   "cell_type": "code",
   "execution_count": 1,
   "metadata": {
    "collapsed": true
   },
   "outputs": [],
   "source": [
    "# The required package\n",
    "import numpy as np\n",
    "import tensorflow as tf\n"
   ]
  },
  {
   "cell_type": "code",
   "execution_count": 2,
   "metadata": {
    "pycharm": {
     "name": "#%%\n"
    }
   },
   "outputs": [
    {
     "name": "stdout",
     "output_type": "stream",
     "text": [
      "[PhysicalDevice(name='/physical_device:GPU:0', device_type='GPU')]\n",
      "Is the Tensor on GPU #0:  \n",
      "True\n"
     ]
    }
   ],
   "source": [
    "# Check if the GPU is available\n",
    "print(tf.config.experimental.list_physical_devices(\"GPU\"))\n",
    "\n",
    "# Check if a tensor running on GPU\n",
    "x = tf.random.uniform([3, 3])\n",
    "print(\"Is the Tensor on GPU #0:  \"),\n",
    "print(x.device.endswith('GPU:0'))"
   ]
  },
  {
   "cell_type": "code",
   "execution_count": 3,
   "metadata": {
    "pycharm": {
     "name": "#%%\n"
    }
   },
   "outputs": [
    {
     "name": "stdout",
     "output_type": "stream",
     "text": [
      "hello, [[4.]]\n",
      "/job:localhost/replica:0/task:0/device:GPU:0\n",
      "tf.Tensor([[3. 5.]], shape=(1, 2), dtype=float32)\n",
      "[[2.]\n",
      " [3.]]\n",
      "[[2. 4.]\n",
      " [3. 6.]]\n"
     ]
    }
   ],
   "source": [
    "# Tensorflow eager execution\n",
    "x = [[2.]]\n",
    "m = tf.matmul(x, x)\n",
    "print(\"hello, {}\".format(m))\n",
    "\n",
    "con_a = tf.constant([[1.0,2.0]], name=\"a\")\n",
    "con_b = tf.constant([[2.0,3.0]], name=\"b\")\n",
    "\n",
    "## Constant calculation\n",
    "result = con_a + con_b\n",
    "print(result.device)\n",
    "print(result)\n",
    "\n",
    "# Tensorflow now also support Numpy calculation\n",
    "b = np.transpose(con_b)\n",
    "\n",
    "# But notice that if numpy operator is used,\n",
    "# the result value is type of numpy\n",
    "print(b)\n",
    "c = np.multiply(con_a, b)\n",
    "print(c)\n"
   ]
  },
  {
   "cell_type": "code",
   "execution_count": 4,
   "metadata": {
    "pycharm": {
     "name": "#%%\n"
    }
   },
   "outputs": [
    {
     "name": "stdout",
     "output_type": "stream",
     "text": [
      "tf.Tensor(\n",
      "[[[[0. 0. 0.]\n",
      "   [0. 0. 0.]\n",
      "   [0. 0. 0.]]\n",
      "\n",
      "  [[0. 0. 0.]\n",
      "   [0. 0. 0.]\n",
      "   [0. 0. 0.]]]\n",
      "\n",
      "\n",
      " [[[0. 0. 0.]\n",
      "   [0. 0. 0.]\n",
      "   [0. 0. 0.]]\n",
      "\n",
      "  [[0. 0. 0.]\n",
      "   [0. 0. 0.]\n",
      "   [0. 0. 0.]]]], shape=(2, 2, 3, 3), dtype=float32)\n",
      "tf.Tensor(\n",
      "[[[1. 1. 1. 1.]\n",
      "  [1. 1. 1. 1.]\n",
      "  [1. 1. 1. 1.]]\n",
      "\n",
      " [[1. 1. 1. 1.]\n",
      "  [1. 1. 1. 1.]\n",
      "  [1. 1. 1. 1.]]], shape=(2, 3, 4), dtype=float32)\n",
      "[2, 3, 4]\n",
      "tf.Tensor(\n",
      "[[[0. 0. 0. 0. 0. 0. 0. 0. 0.]\n",
      "  [0. 0. 0. 0. 0. 0. 0. 0. 0.]]\n",
      "\n",
      " [[0. 0. 0. 0. 0. 0. 0. 0. 0.]\n",
      "  [0. 0. 0. 0. 0. 0. 0. 0. 0.]]], shape=(2, 2, 9), dtype=float32)\n",
      "tf.Tensor(\n",
      "[[0. 0. 0. 0. 0. 0. 0. 0. 0. 0. 0. 0. 0. 0. 0. 0. 0. 0.]\n",
      " [0. 0. 0. 0. 0. 0. 0. 0. 0. 0. 0. 0. 0. 0. 0. 0. 0. 0.]], shape=(2, 18), dtype=float32)\n"
     ]
    }
   ],
   "source": [
    "# Shape and Reshape\n",
    "\n",
    "# Shape usually we use the following indices meaning:\n",
    "# For images (0: batch, 1: width, 2: height, 3, feature)\n",
    "# For normal data (0: batch, 1: data object, 2, feature)\n",
    "\n",
    "# Initialize with all zero with 4 indices\n",
    "ex_a = tf.zeros([2, 2, 3, 3])\n",
    "print(ex_a)\n",
    "\n",
    "# Initialize with all one with 3 indices\n",
    "ex_b = tf.ones([2, 3, 4])\n",
    "print(ex_b)\n",
    "\n",
    "# Get the shape into python list\n",
    "print(ex_b.shape.as_list())\n",
    "\n",
    "# Reshape the tensor, notice that the reshape function will not create a new tensor in memory\n",
    "reshape_ex = tf.reshape(ex_a, (2, 2, 9))\n",
    "print(reshape_ex)\n",
    "# You can also reshape the tensor when you don't know the exact dimension\n",
    "reshape_ex = tf.reshape(ex_a, (2, -1))\n",
    "print(reshape_ex)\n",
    "# But you can not using more than one -1 in the shape parameter\n",
    "# reshape_ex = tf.reshape(ex_a, (2, -1, -1))"
   ]
  },
  {
   "cell_type": "code",
   "execution_count": 5,
   "metadata": {
    "pycharm": {
     "name": "#%%\n"
    }
   },
   "outputs": [
    {
     "name": "stdout",
     "output_type": "stream",
     "text": [
      "<tf.RaggedTensor [[0, 1, 2, 3], [4, 5], [6, 7, 8], [9]]>\n"
     ]
    }
   ],
   "source": [
    "# Some special type of tensor\n",
    "# Ragged tensor\n",
    "\n",
    "ragged_list = [\n",
    "    [0, 1, 2, 3],\n",
    "    [4, 5],\n",
    "    [6, 7, 8],\n",
    "    [9]]\n",
    "ragged_tensor = tf.ragged.constant(ragged_list)\n",
    "print(ragged_tensor)\n",
    "\n",
    "\n",
    "\n",
    "\n",
    "\n",
    "\n",
    "    \n",
    "\n",
    "\n"
   ]
  },
  {
   "cell_type": "code",
   "execution_count": 6,
   "metadata": {
    "pycharm": {
     "name": "#%%\n"
    }
   },
   "outputs": [
    {
     "name": "stdout",
     "output_type": "stream",
     "text": [
      "tf.Tensor(\n",
      "[[1]\n",
      " [2]\n",
      " [3]], shape=(3, 1), dtype=int64)\n",
      "tf.Tensor(\n",
      "[[1 2 3]\n",
      " [2 4 6]\n",
      " [3 6 9]], shape=(3, 3), dtype=int64)\n"
     ]
    }
   ],
   "source": [
    "# Broadcasting\n",
    "b_a_lst = np.arange(1,4)\n",
    "\n",
    "b_a_lst = b_a_lst.reshape((1,3))\n",
    "b_b_array = np.repeat(b_a_lst, 3, axis=0)\n",
    "\n",
    "tensor_a = tf.constant(b_a_lst, dtype=tf.int64)\n",
    "tensor_a = tf.reshape(tensor_a, [3,1])\n",
    "tensor_b = tf.constant(b_b_array, dtype=tf.int64)\n",
    "\n",
    "print(tensor_a)\n",
    "\n",
    "print(tf.multiply(tensor_b, tensor_a))\n",
    "\n"
   ]
  }
 ],
 "metadata": {
  "kernelspec": {
   "display_name": "Python 3",
   "language": "python",
   "name": "python3"
  },
  "language_info": {
   "codemirror_mode": {
    "name": "ipython",
    "version": 3
   },
   "file_extension": ".py",
   "mimetype": "text/x-python",
   "name": "python",
   "nbconvert_exporter": "python",
   "pygments_lexer": "ipython3",
   "version": "3.8.3"
  }
 },
 "nbformat": 4,
 "nbformat_minor": 1
}
